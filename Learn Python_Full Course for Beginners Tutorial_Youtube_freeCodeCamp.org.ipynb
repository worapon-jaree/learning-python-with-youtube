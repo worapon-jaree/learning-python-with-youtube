{
 "cells": [
  {
   "cell_type": "code",
   "execution_count": 1,
   "metadata": {},
   "outputs": [
    {
     "data": {
      "text/plain": [
       "10"
      ]
     },
     "execution_count": 1,
     "metadata": {},
     "output_type": "execute_result"
    }
   ],
   "source": [
    "5 + 5"
   ]
  },
  {
   "cell_type": "code",
   "execution_count": 2,
   "metadata": {},
   "outputs": [
    {
     "name": "stdout",
     "output_type": "stream",
     "text": [
      "hello world\n"
     ]
    }
   ],
   "source": [
    "x = \"hello world\"\n",
    "print(x)"
   ]
  },
  {
   "cell_type": "markdown",
   "metadata": {},
   "source": [
    "<h4> Drawing Shapes </h4>"
   ]
  },
  {
   "cell_type": "markdown",
   "metadata": {},
   "source": [
    "when we doing programming we given the computer a set of instruction\n",
    "the more complex the more task they can do"
   ]
  },
  {
   "cell_type": "markdown",
   "metadata": {},
   "source": [
    "<h4> \"help function is a built in function to help you understand more about syntax\" <h/4>"
   ]
  },
  {
   "cell_type": "code",
   "execution_count": 7,
   "metadata": {},
   "outputs": [
    {
     "name": "stdout",
     "output_type": "stream",
     "text": [
      "Help on built-in function print in module builtins:\n",
      "\n",
      "print(...)\n",
      "    print(value, ..., sep=' ', end='\\n', file=sys.stdout, flush=False)\n",
      "    \n",
      "    Prints the values to a stream, or to sys.stdout by default.\n",
      "    Optional keyword arguments:\n",
      "    file:  a file-like object (stream); defaults to the current sys.stdout.\n",
      "    sep:   string inserted between values, default a space.\n",
      "    end:   string appended after the last value, default a newline.\n",
      "    flush: whether to forcibly flush the stream.\n",
      "\n"
     ]
    }
   ],
   "source": [
    "help(print)"
   ]
  },
  {
   "cell_type": "code",
   "execution_count": 18,
   "metadata": {},
   "outputs": [
    {
     "name": "stdout",
     "output_type": "stream",
     "text": [
      "   /|\n",
      "  / |\n",
      " /  |\n",
      "/___|\n",
      "This is a triangle\n"
     ]
    }
   ],
   "source": [
    "print(\"   /|\")\n",
    "print(\"  / |\")\n",
    "print(\" /  |\")\n",
    "print(\"/___|\")\n",
    "print(\"This is a triangle\")"
   ]
  },
  {
   "cell_type": "markdown",
   "metadata": {},
   "source": [
    "<h4> Variable <h/4>"
   ]
  },
  {
   "cell_type": "code",
   "execution_count": 20,
   "metadata": {},
   "outputs": [
    {
     "name": "stdout",
     "output_type": "stream",
     "text": [
      "There once with a man named George.\n",
      "He was 70 years old.\n",
      "He really liked the name George.\n",
      "but he didn't like being 70.\n"
     ]
    }
   ],
   "source": [
    "print(\"There once with a man named George.\")\n",
    "print(\"He was 70 years old.\")\n",
    "print(\"He really liked the name George.\")\n",
    "print(\"but he didn't like being 70.\")"
   ]
  },
  {
   "cell_type": "markdown",
   "metadata": {},
   "source": [
    "<h3>what if we want to change charactor_name, ages</h3>\n",
    "<h4>Let's us variable to stored charactor names, ages</h4>"
   ]
  },
  {
   "cell_type": "code",
   "execution_count": 32,
   "metadata": {},
   "outputs": [],
   "source": [
    "char_name = \"John\"\n",
    "char_age = \"35\""
   ]
  },
  {
   "cell_type": "code",
   "execution_count": 33,
   "metadata": {},
   "outputs": [
    {
     "name": "stdout",
     "output_type": "stream",
     "text": [
      "There once with a man named John\n",
      "He was 35 years old\n",
      "He really liked the name John\n",
      "but he didn't like being 35\n"
     ]
    }
   ],
   "source": [
    "print(\"There once with a man named\", char_name)\n",
    "print(\"He was \"+char_age+\" years old\")\n",
    "print(\"He really liked the name \"+char_name)\n",
    "print(\"but he didn't like being \"+char_age)"
   ]
  },
  {
   "cell_type": "code",
   "execution_count": 36,
   "metadata": {},
   "outputs": [],
   "source": [
    "char_name = \"Mike\"\n",
    "char_age = \"45\""
   ]
  },
  {
   "cell_type": "code",
   "execution_count": 37,
   "metadata": {},
   "outputs": [
    {
     "name": "stdout",
     "output_type": "stream",
     "text": [
      "There once with a man named Mike\n",
      "He was 45 years old\n",
      "He really liked the name Mike\n",
      "but he didn't like being 45\n"
     ]
    }
   ],
   "source": [
    "print(\"There once with a man named\", char_name)\n",
    "print(\"He was \"+char_age+\" years old\")\n",
    "print(\"He really liked the name \"+char_name)\n",
    "print(\"but he didn't like being \"+char_age)"
   ]
  },
  {
   "cell_type": "markdown",
   "metadata": {},
   "source": [
    "<h3>Data Types</h3>\n",
    "<h4>String : Charactor/Plain Text</h4>\n",
    "<h4>Number : Number</h4>\n",
    "<h4>Boolean : T/F</h4>"
   ]
  },
  {
   "cell_type": "code",
   "execution_count": 51,
   "metadata": {},
   "outputs": [],
   "source": [
    "String = \"To\\nm\" # \\n give you to enter new line\n",
    "phrase = \"Adam Academy\"\n",
    "Number = 42\n",
    "Boolean = True"
   ]
  },
  {
   "cell_type": "code",
   "execution_count": 54,
   "metadata": {},
   "outputs": [
    {
     "name": "stdout",
     "output_type": "stream",
     "text": [
      "To\n",
      "m\n",
      "Adam Academy is Cool\n"
     ]
    }
   ],
   "source": [
    "print(String)\n",
    "print(phrase + \" is Cool\") #this call concate"
   ]
  },
  {
   "cell_type": "markdown",
   "metadata": {},
   "source": [
    "<h4> String Function</h4>"
   ]
  },
  {
   "cell_type": "code",
   "execution_count": 75,
   "metadata": {},
   "outputs": [
    {
     "name": "stdout",
     "output_type": "stream",
     "text": [
      "adam academy\n",
      "ADAM ACADEMY\n",
      "12\n",
      "A\n",
      "0\n",
      "George Academy\n",
      "False\n",
      "True\n"
     ]
    }
   ],
   "source": [
    "print(phrase.lower())\n",
    "print(phrase.upper())\n",
    "print(len(phrase)) #return the lenght of the charactor\n",
    "print(phrase[0]) #return index 0 in range\n",
    "print(phrase.index(\"A\"))#return index of letter A in range\n",
    "#print(phrase.index(\"z\"))#this line will return false because no \"z\" in range\n",
    "print(phrase.replace(\"Adam\", \"George\")) #replace Adam to George\n",
    "\n",
    "print(phrase.isupper()) \n",
    "#check if all char is uppercase if not return false\n",
    "print(phrase.lower().islower()) \n",
    "# first lets all char be lower \n",
    "#and check if all is lower if yes return ture"
   ]
  },
  {
   "cell_type": "markdown",
   "metadata": {},
   "source": [
    "<h4>Working with Number</h4>"
   ]
  },
  {
   "cell_type": "code",
   "execution_count": 106,
   "metadata": {},
   "outputs": [
    {
     "name": "stdout",
     "output_type": "stream",
     "text": [
      "2\n",
      "2.496\n",
      "-2.056\n",
      "7\n",
      "1\n",
      "8\n",
      "5.666666666666667\n",
      "1\n",
      "95\n",
      "107\n",
      "95 my favorite number\n",
      "5\n",
      "4096\n",
      "6\n",
      "4\n",
      "3\n",
      "3.46\n"
     ]
    }
   ],
   "source": [
    "print(2)\n",
    "print(2.496)\n",
    "print(-2.056)\n",
    "print(2+5)\n",
    "print(2-1)\n",
    "print(2**3)\n",
    "print((3-1)**2 + 5/3)\n",
    "print(10%3) #take the first number divided by 3 and return the remainder\n",
    "my_num = 95\n",
    "print(my_num)\n",
    "print(my_num+12)\n",
    "print(str(my_num)+\" my favorite number\")#change my_num value to str\n",
    "my_num = -5\n",
    "print(abs(my_num))#change my_name value to absolute number\n",
    "print(pow(4, 6))#4 power 6\n",
    "print(max(4,6))#return max number\n",
    "print(min(4,6))#return min number\n",
    "print(round(3.4567))\n",
    "print(round(3.45678,2))#2 digits"
   ]
  },
  {
   "cell_type": "code",
   "execution_count": 107,
   "metadata": {},
   "outputs": [],
   "source": [
    "from math import *"
   ]
  },
  {
   "cell_type": "markdown",
   "metadata": {},
   "source": [
    "<h4>import math function</h4>"
   ]
  },
  {
   "cell_type": "code",
   "execution_count": 113,
   "metadata": {},
   "outputs": [
    {
     "name": "stdout",
     "output_type": "stream",
     "text": [
      "3\n",
      "4\n",
      "5.916079783099616\n"
     ]
    }
   ],
   "source": [
    "print(floor(3.7))#rounddown\n",
    "print(ceil(3.7))#roundup\n",
    "print(sqrt(35))#squre root of 35"
   ]
  },
  {
   "cell_type": "markdown",
   "metadata": {},
   "source": [
    "<h4>Interact with User </h4>"
   ]
  },
  {
   "cell_type": "code",
   "execution_count": 8,
   "metadata": {},
   "outputs": [
    {
     "name": "stdout",
     "output_type": "stream",
     "text": [
      "Enter your name:Tar\n",
      "Enter your age:23\n"
     ]
    }
   ],
   "source": [
    "name = input(\"Enter your name:\")\n",
    "age = input(\"Enter your age:\")"
   ]
  },
  {
   "cell_type": "code",
   "execution_count": 11,
   "metadata": {},
   "outputs": [
    {
     "name": "stdout",
     "output_type": "stream",
     "text": [
      "Hello Tar! You are 23 years old\n"
     ]
    }
   ],
   "source": [
    "print(\"Hello \"+ name + \"! You are \" + age + \" years old\")"
   ]
  },
  {
   "cell_type": "markdown",
   "metadata": {},
   "source": [
    "<h4>Build a Basic Calculator</h4>"
   ]
  },
  {
   "cell_type": "code",
   "execution_count": 16,
   "metadata": {},
   "outputs": [
    {
     "name": "stdout",
     "output_type": "stream",
     "text": [
      "Enter a number:78\n",
      "Enter another number:88\n",
      "7888\n"
     ]
    }
   ],
   "source": [
    "num1 = input(\"Enter a number:\")\n",
    "num2 = input(\"Enter another number:\")\n",
    "#By default answer from user is a \n",
    "#string so we need to convert to numeric\n",
    "result = num1+num2\n",
    "print(result)"
   ]
  },
  {
   "cell_type": "code",
   "execution_count": 20,
   "metadata": {},
   "outputs": [
    {
     "name": "stdout",
     "output_type": "stream",
     "text": [
      "Enter a number:12\n",
      "Enter another number:14\n",
      "26.0\n"
     ]
    }
   ],
   "source": [
    "num1 = input(\"Enter a number:\")\n",
    "num2 = input(\"Enter another number:\")\n",
    "result = float(num1)+ float(num2) #float = number that have decimal\n",
    "print(result)"
   ]
  },
  {
   "cell_type": "markdown",
   "metadata": {},
   "source": [
    "<h4>Madlibs Game</h4>"
   ]
  },
  {
   "cell_type": "code",
   "execution_count": 25,
   "metadata": {},
   "outputs": [
    {
     "name": "stdout",
     "output_type": "stream",
     "text": [
      "Enter a colorred\n",
      "Enter plural_nounblue\n",
      "Enter celebritytom\n",
      "Roses are red\n",
      "blue are blue\n",
      "I love tom\n"
     ]
    }
   ],
   "source": [
    "color = input(\"Enter a color\")\n",
    "plural_noun = input(\"Enter plural_noun\")\n",
    "celebrity = input(\"Enter celebrity\")\n",
    "print(\"Roses are \"+color)\n",
    "print(plural_noun+\" are blue\")\n",
    "print(\"I love \"+ celebrity)"
   ]
  },
  {
   "cell_type": "markdown",
   "metadata": {},
   "source": [
    "<h4>Working with List </h4>"
   ]
  },
  {
   "cell_type": "markdown",
   "metadata": {},
   "source": [
    "Structure that we use to store a list of data"
   ]
  },
  {
   "cell_type": "code",
   "execution_count": 28,
   "metadata": {},
   "outputs": [],
   "source": [
    "friends = [\"Tom\", \"Jane\", \"Chris\", \"Kevin\"] #put mulitple value inside\n",
    "#one variable # you can put anything inside a list doesn't have to be\n",
    "#the same type too "
   ]
  },
  {
   "cell_type": "code",
   "execution_count": 50,
   "metadata": {},
   "outputs": [
    {
     "name": "stdout",
     "output_type": "stream",
     "text": [
      "['Tom', 'Jane', 'Chris', 'Kevin']\n",
      "['Jane', 'Chris']\n",
      "Kevin\n",
      "['Jane', 'Chris', 'Kevin']\n",
      "['Tom', 'Jane', 'Chris']\n"
     ]
    }
   ],
   "source": [
    "print(friends)\n",
    "print(friends[1:3])\n",
    "print(friends[-1]) #negative to access the last index of the element\n",
    "print(friends[1:]) #everything from index 1 to last\n",
    "print(friends[0:-1]) #everything from index 0 to -1 but exclude -1"
   ]
  },
  {
   "cell_type": "markdown",
   "metadata": {},
   "source": [
    "<h4>Using Function with List</h4>"
   ]
  },
  {
   "cell_type": "code",
   "execution_count": 102,
   "metadata": {},
   "outputs": [],
   "source": [
    "lucky_num = [4, 3, 2, 5, 12, 45]\n",
    "friends = [\"John\" ,\"Tom\" ,\"Kevin\", \"Oscar\", \"Toby\"]"
   ]
  },
  {
   "cell_type": "code",
   "execution_count": 103,
   "metadata": {},
   "outputs": [
    {
     "name": "stdout",
     "output_type": "stream",
     "text": [
      "1\n",
      "[45, 12, 5, 4, 3, 2]\n",
      "['John', 'Kelly', 'Tom', 'Kevin', 'Toby', 4, 3, 2, 5, 12, 45]\n"
     ]
    }
   ],
   "source": [
    "friends.extend(lucky_num) #append the list with another list\n",
    "friends.append(\"Creed\") #add the item #default is at the end of the list\n",
    "friends.insert(1, \"Kelly\") #at index position one add Kelly\n",
    "friends.remove(\"Oscar\") #remove\n",
    "friends.pop() #remove last index\n",
    "print(friends.count(\"Kelly\"))\n",
    "lucky_num.sort() # ASC order\n",
    "lucky_num.reverse() # Reverse order\n",
    "print(lucky_num)\n",
    "print(friends)"
   ]
  },
  {
   "cell_type": "code",
   "execution_count": 80,
   "metadata": {},
   "outputs": [
    {
     "data": {
      "text/plain": [
       "[]"
      ]
     },
     "execution_count": 80,
     "metadata": {},
     "output_type": "execute_result"
    }
   ],
   "source": [
    "friends.clear()\n",
    "friends"
   ]
  },
  {
   "cell_type": "markdown",
   "metadata": {},
   "source": [
    "<h4> Tuples </h4>"
   ]
  },
  {
   "cell_type": "markdown",
   "metadata": {},
   "source": [
    "A type of data structure, A container that can store pieces of info.\n",
    "Basically, the same as List but there are some differences"
   ]
  },
  {
   "cell_type": "code",
   "execution_count": 9,
   "metadata": {},
   "outputs": [
    {
     "name": "stdout",
     "output_type": "stream",
     "text": [
      "0.75\n",
      "0.82\n"
     ]
    }
   ],
   "source": [
    "#Tuples with coordinates inside of it\n",
    "#Tuple is immutable (Means tuple can't be modify, \n",
    "#can't change anything once you created)\n",
    "coor = (0.75, 0.82)\n",
    "print(coor[0])\n",
    "print(coor[1])\n",
    "#coor[1] = 10 #this will give you an error because tuple is immutable"
   ]
  },
  {
   "cell_type": "markdown",
   "metadata": {},
   "source": [
    "<h4> So why use tuple </h4>"
   ]
  },
  {
   "cell_type": "markdown",
   "metadata": {},
   "source": [
    "We use for data that we will never want to change"
   ]
  },
  {
   "cell_type": "code",
   "execution_count": 16,
   "metadata": {},
   "outputs": [
    {
     "name": "stdout",
     "output_type": "stream",
     "text": [
      "[(4, 3), 2]\n"
     ]
    }
   ],
   "source": [
    "coor1 = [(4,3), (5, 2)]\n",
    "coor1[1] = 2\n",
    "print(coor1)#this not give you an error because coor1 is a list"
   ]
  },
  {
   "cell_type": "markdown",
   "metadata": {},
   "source": [
    "<h4> Function </h4>"
   ]
  },
  {
   "cell_type": "markdown",
   "metadata": {},
   "source": [
    "Using a function in python/ A collection of code that do specific task"
   ]
  },
  {
   "cell_type": "code",
   "execution_count": 17,
   "metadata": {},
   "outputs": [],
   "source": [
    "#Awesome Function Say Hi to a user\n",
    "def Greeting():\n",
    "    print(\"Hello User\")"
   ]
  },
  {
   "cell_type": "code",
   "execution_count": 36,
   "metadata": {},
   "outputs": [
    {
     "name": "stdout",
     "output_type": "stream",
     "text": [
      "Hello User\n"
     ]
    }
   ],
   "source": [
    "#Call Greeting function\n",
    "Greeting()"
   ]
  },
  {
   "cell_type": "code",
   "execution_count": 48,
   "metadata": {},
   "outputs": [],
   "source": [
    "def Greeting2(name, age):\n",
    "        print(\"Hello \"+ name)\n",
    "        print(\"You are \"+ str(age) + \" years old\")"
   ]
  },
  {
   "cell_type": "code",
   "execution_count": 49,
   "metadata": {},
   "outputs": [
    {
     "name": "stdout",
     "output_type": "stream",
     "text": [
      "Hello Tar\n",
      "You are 24 years old\n"
     ]
    }
   ],
   "source": [
    "Greeting2(\"Tar\", 24)"
   ]
  },
  {
   "cell_type": "markdown",
   "metadata": {},
   "source": [
    "<h4> Return Statement in Python Function </h4>"
   ]
  },
  {
   "cell_type": "markdown",
   "metadata": {},
   "source": [
    "A lot of time when we call python function we actually want to get an info back to you"
   ]
  },
  {
   "cell_type": "code",
   "execution_count": 51,
   "metadata": {},
   "outputs": [
    {
     "data": {
      "text/plain": [
       "8"
      ]
     },
     "execution_count": 51,
     "metadata": {},
     "output_type": "execute_result"
    }
   ],
   "source": [
    "2**3"
   ]
  },
  {
   "cell_type": "code",
   "execution_count": 55,
   "metadata": {},
   "outputs": [],
   "source": [
    "def cube(num):\n",
    "    num*num*num"
   ]
  },
  {
   "cell_type": "code",
   "execution_count": 56,
   "metadata": {},
   "outputs": [],
   "source": [
    "cube(2) #when we call this function, it really don't do anything"
   ]
  },
  {
   "cell_type": "code",
   "execution_count": 69,
   "metadata": {},
   "outputs": [],
   "source": [
    "def cube(num):\n",
    "    num*num*num"
   ]
  },
  {
   "cell_type": "code",
   "execution_count": 70,
   "metadata": {},
   "outputs": [
    {
     "name": "stdout",
     "output_type": "stream",
     "text": [
      "None\n"
     ]
    }
   ],
   "source": [
    "print(cube(2)) #this give none because python don't know what\n",
    "#value to give back to num*num*num\n",
    "#let's use return in our function"
   ]
  },
  {
   "cell_type": "code",
   "execution_count": 75,
   "metadata": {},
   "outputs": [],
   "source": [
    "def cube(num):\n",
    "    return num*num*num #after return statement its break back out\n",
    "#of the function so any code you write after return statement in a\n",
    "#function will not be executed"
   ]
  },
  {
   "cell_type": "code",
   "execution_count": 76,
   "metadata": {},
   "outputs": [
    {
     "name": "stdout",
     "output_type": "stream",
     "text": [
      "64\n"
     ]
    }
   ],
   "source": [
    "cube(4)\n",
    "result = cube(4)\n",
    "print(result)"
   ]
  },
  {
   "cell_type": "markdown",
   "metadata": {},
   "source": [
    "<h4> If Statement </h4>"
   ]
  },
  {
   "cell_type": "markdown",
   "metadata": {},
   "source": [
    "Give program to respond whether its value is"
   ]
  },
  {
   "cell_type": "markdown",
   "metadata": {},
   "source": [
    "Example of if statement in real life\n",
    "\n",
    "I wake up <br>\n",
    "If I'm hungry <br>\n",
    "I eat breakfast <br>\n",
    "\n",
    "I leave my house <br>\n",
    "If It's cloudy <br>\n",
    "I bring an umbrella <br>\n",
    "otherwise <br>\n",
    "I bring sunglasses <br>\n",
    "\n",
    "I'm at the restaurant <br>\n",
    "If I want meat <br>\n",
    "I order a steak <br>\n",
    "otherwise If I want pasta <br>\n",
    "I order spaghetti & meatballs <br>\n",
    "ptherwise <br>\n",
    "I order salad <br>"
   ]
  },
  {
   "cell_type": "code",
   "execution_count": 81,
   "metadata": {},
   "outputs": [
    {
     "name": "stdout",
     "output_type": "stream",
     "text": [
      "You are a male\n"
     ]
    }
   ],
   "source": [
    "is_male = True\n",
    "if is_male: #this if will execute when its True\n",
    "    print(\"You are a male\")"
   ]
  },
  {
   "cell_type": "code",
   "execution_count": 110,
   "metadata": {},
   "outputs": [
    {
     "name": "stdout",
     "output_type": "stream",
     "text": [
      "You are not a male\n"
     ]
    }
   ],
   "source": [
    "is_male = False\n",
    "if is_male:\n",
    "    print(\"You are a male\")\n",
    "else:\n",
    "    print(\"You are not a male\")"
   ]
  },
  {
   "cell_type": "code",
   "execution_count": 111,
   "metadata": {},
   "outputs": [],
   "source": [
    "is_tall = True"
   ]
  },
  {
   "cell_type": "code",
   "execution_count": 139,
   "metadata": {},
   "outputs": [
    {
     "name": "stdout",
     "output_type": "stream",
     "text": [
      "Type Yes if you are a male\n",
      "False\n",
      "Type Yes if you are tall\n",
      "False\n"
     ]
    }
   ],
   "source": [
    "is_male = input(\"Type Yes if you are a male\")\n",
    "male = bool(is_male)\n",
    "print(male)\n",
    "is_tall = input(\"Type Yes if you are tall\")\n",
    "tall = bool(is_tall)\n",
    "print(tall)"
   ]
  },
  {
   "cell_type": "code",
   "execution_count": 131,
   "metadata": {},
   "outputs": [
    {
     "name": "stdout",
     "output_type": "stream",
     "text": [
      "You neither male or tall\n"
     ]
    }
   ],
   "source": [
    "if male or tall:\n",
    "    print(\"You are a male or tall or both\")\n",
    "else:\n",
    "    print(\"You neither male or tall\")\n",
    "#Because OR operator will give False only if the \n",
    "#statement is all False so in this case\n",
    "#is_male = False and is_tall = True\n",
    "#This if statement will return\n",
    "#You are a male or tall"
   ]
  },
  {
   "cell_type": "markdown",
   "metadata": {},
   "source": [
    "let's make it more complex"
   ]
  },
  {
   "cell_type": "code",
   "execution_count": 140,
   "metadata": {},
   "outputs": [
    {
     "name": "stdout",
     "output_type": "stream",
     "text": [
      "You are a female and tall or not tall\n"
     ]
    }
   ],
   "source": [
    "if male or tall:\n",
    "    print(\"You are a male or tall or both\")\n",
    "elif male and not(tall) :\n",
    "    print(\"You are a short male\")\n",
    "elif male != True and tall:\n",
    "    print(\"You are a female but tall\")\n",
    "else:\n",
    "    print(\"You are a female and tall or not tall\")"
   ]
  },
  {
   "cell_type": "markdown",
   "metadata": {},
   "source": [
    "<h4> if Statement and Comparison </h4>"
   ]
  },
  {
   "cell_type": "markdown",
   "metadata": {},
   "source": [
    "Comparison: ("
   ]
  },
  {
   "cell_type": "code",
   "execution_count": 152,
   "metadata": {},
   "outputs": [
    {
     "name": "stdout",
     "output_type": "stream",
     "text": [
      "Maximun number is  15\n"
     ]
    }
   ],
   "source": [
    "def maximum_num(num1,num2,num3):\n",
    "    if num1 >= num2 and num1 >= num3:\n",
    "        print(\"Maximum number is \",num1)\n",
    "    elif num2>= num1 and num2 >= num3:\n",
    "        print(\"Maximum number is \",num2)\n",
    "    else:\n",
    "        print(\"Maximun number is \",num3)\n",
    "\n",
    "maximum_num(12,3,15)"
   ]
  },
  {
   "cell_type": "markdown",
   "metadata": {},
   "source": [
    "<h4>Building A Better calculator</h4>"
   ]
  },
  {
   "cell_type": "markdown",
   "metadata": {},
   "source": [
    "this calculator will be able to do all the basic arithmetics"
   ]
  },
  {
   "cell_type": "code",
   "execution_count": 157,
   "metadata": {},
   "outputs": [
    {
     "name": "stdout",
     "output_type": "stream",
     "text": [
      "Enter first Number: 1\n",
      "Enter Operator: +\n",
      "Enter Second Number: 12\n"
     ]
    }
   ],
   "source": [
    "num1 = float(input(\"Enter first Number: \"))\n",
    "operator = (input(\"Enter Operator: \"))\n",
    "num2 = float(input(\"Enter Second Number: \"))"
   ]
  },
  {
   "cell_type": "code",
   "execution_count": 158,
   "metadata": {},
   "outputs": [
    {
     "name": "stdout",
     "output_type": "stream",
     "text": [
      "13.0\n"
     ]
    }
   ],
   "source": [
    "if operator == \"+\":\n",
    "    print(num1+num2)\n",
    "elif operator == \"-\":\n",
    "    print(num1-num2)\n",
    "elif operator == \"*\":\n",
    "    print(num1*num2)\n",
    "elif operator == \"/\":\n",
    "    print(num1/num2)\n",
    "else:\n",
    "    print(\"Invalid Operator\")"
   ]
  },
  {
   "cell_type": "markdown",
   "metadata": {},
   "source": [
    "<h4>Dictionaries</h4>"
   ]
  },
  {
   "cell_type": "markdown",
   "metadata": {},
   "source": [
    "Special structure that can store value in Key value pair\n",
    "<br>if you want access to a value of it by Key"
   ]
  },
  {
   "cell_type": "code",
   "execution_count": 175,
   "metadata": {},
   "outputs": [],
   "source": [
    "dict1 = {\"Jan\":\"January\",\"Feb\":\"Febuary\",\"Mar\":\"March\",\n",
    "       \"Apr\":\"April\", \"May\": \"May\"}\n",
    "#the key need to be unique #also case sensitve"
   ]
  },
  {
   "cell_type": "code",
   "execution_count": 176,
   "metadata": {},
   "outputs": [
    {
     "name": "stdout",
     "output_type": "stream",
     "text": [
      "January Febuary\n"
     ]
    }
   ],
   "source": [
    "print(dict1[\"Jan\"], dict1[\"Feb\"])"
   ]
  },
  {
   "cell_type": "code",
   "execution_count": 178,
   "metadata": {},
   "outputs": [
    {
     "data": {
      "text/plain": [
       "'January'"
      ]
     },
     "execution_count": 178,
     "metadata": {},
     "output_type": "execute_result"
    }
   ],
   "source": [
    "dict1.get(\"Jan\")#get function use key to get the value"
   ]
  },
  {
   "cell_type": "code",
   "execution_count": 181,
   "metadata": {},
   "outputs": [
    {
     "data": {
      "text/plain": [
       "'Not a valid Key'"
      ]
     },
     "execution_count": 181,
     "metadata": {},
     "output_type": "execute_result"
    }
   ],
   "source": [
    "dict1.get(\"Jul\", \"Not a valid Key\") #this mean in dict1 don't have \n",
    "#value \"Jul\" as a Key"
   ]
  },
  {
   "cell_type": "markdown",
   "metadata": {},
   "source": [
    "<h4>While Loop</h4>"
   ]
  },
  {
   "cell_type": "markdown",
   "metadata": {},
   "source": [
    "Allows us to loop through a block of code and stop when its false"
   ]
  },
  {
   "cell_type": "code",
   "execution_count": 192,
   "metadata": {},
   "outputs": [],
   "source": [
    "#first for the sake of easy let's create int value\n",
    "num = 1"
   ]
  },
  {
   "cell_type": "code",
   "execution_count": 193,
   "metadata": {},
   "outputs": [
    {
     "name": "stdout",
     "output_type": "stream",
     "text": [
      "1\n",
      "2\n",
      "3\n",
      "4\n",
      "5\n",
      "6\n",
      "7\n",
      "8\n",
      "9\n",
      "10\n",
      "Done Loop\n"
     ]
    }
   ],
   "source": [
    "#As long as num <= 10 is true while loop will keep looping\n",
    "while num <= 10:\n",
    "    print(num)\n",
    "    num = num + 1\n",
    "print(\"Done Loop\")\n",
    "#As you"
   ]
  },
  {
   "cell_type": "markdown",
   "metadata": {},
   "source": [
    "To summarise,\n",
    "<br>First, python check if num <= 10\n",
    "<br>Second, if the condition is true, it will print out \"num\"\n",
    "<br>Last, this process keep on going until num >= 10 \n",
    "<br>then print out \"Done Loop\"\n",
    "<br> add 1 to num and go back to "
   ]
  },
  {
   "cell_type": "markdown",
   "metadata": {},
   "source": [
    "<h4>Build Basic Guessing Game</h4>"
   ]
  },
  {
   "cell_type": "code",
   "execution_count": 212,
   "metadata": {},
   "outputs": [],
   "source": [
    "secret_word = \"Bobby\" #User will guess the word untill they get \"Bobby\"\n",
    "guess = []#this is empty string #ready to stored user guess\n",
    "attempt = 0 #this equal to 0 because at initial user don't have attempt yet\n",
    "attempt_limt = 3 \n",
    "out_of_guess = False #if true thats mean they lose because they out of guess"
   ]
  },
  {
   "cell_type": "code",
   "execution_count": 214,
   "metadata": {},
   "outputs": [
    {
     "name": "stdout",
     "output_type": "stream",
     "text": [
      "You Lose!\n"
     ]
    }
   ],
   "source": [
    "#Loop guess to check if guess = secret word and not out of guess\n",
    "while guess != secret_word and not(out_of_guess):\n",
    "    if attempt < attempt_limt: #the game can start if attempt < attempt_limit\n",
    "        guess = str(input(\"Enter guess: \"))\n",
    "        attempt = attempt + 1 #everytime they guess add 1 to attempt\n",
    "    else:\n",
    "        out_of_guess = True #the're out of guesses\n",
    "if out_of_guess: #if out of guess is True then You Lose\n",
    "    print(\"You Lose!\")\n",
    "else:\n",
    "    print(\"You got the secret word!\")"
   ]
  },
  {
   "cell_type": "markdown",
   "metadata": {},
   "source": [
    "To Summarise,\n",
    "<br>First, python check if guess = secret word and not out of guess\n",
    "<br>Second, if the condition is true then check again \n",
    "<br>if attemp < attempt_limit, if the condition sastify then\n",
    "<br>user can begin the game by input guess\n",
    "<br>In the mean time, every guess user make will increment by 1\n",
    "<br>untill attempt_limit is reach, then print out You Lose!\n",
    "<br>Finally, if the guess is right then print out\n",
    "<br>\"You got the secret word!\"\n"
   ]
  },
  {
   "cell_type": "markdown",
   "metadata": {},
   "source": [
    "<h4>For Loop</h4>"
   ]
  },
  {
   "cell_type": "markdown",
   "metadata": {},
   "source": [
    "Special type of Loops that allow us to loop \n",
    "<br>through different type of collection/arrays/letter inside a string"
   ]
  },
  {
   "cell_type": "code",
   "execution_count": 6,
   "metadata": {},
   "outputs": [
    {
     "name": "stdout",
     "output_type": "stream",
     "text": [
      "A\n",
      "d\n",
      "a\n",
      "m\n",
      " \n",
      "A\n",
      "c\n",
      "a\n",
      "d\n",
      "e\n",
      "m\n",
      "y\n"
     ]
    }
   ],
   "source": [
    "#for every letter inside \"Adam Academy\"\n",
    "#I wanna\n",
    "for letter in \"Adam Academy\":\n",
    "    print(letter)\n",
    "#for each letter in \"Adam Academy\"\n",
    "#I want to print out each letter"
   ]
  },
  {
   "cell_type": "code",
   "execution_count": 8,
   "metadata": {},
   "outputs": [
    {
     "name": "stdout",
     "output_type": "stream",
     "text": [
      "Jim\n",
      "Karrem\n",
      "Kevin\n"
     ]
    }
   ],
   "source": [
    "friend = [\"Jim\", \"Karrem\", \"Kevin\"]\n",
    "for friend in friend:\n",
    "    print(friend)\n",
    "#for each friend inside friend\n",
    "#print out each friend"
   ]
  },
  {
   "cell_type": "code",
   "execution_count": 11,
   "metadata": {},
   "outputs": [
    {
     "name": "stdout",
     "output_type": "stream",
     "text": [
      "3\n",
      "4\n",
      "5\n",
      "6\n",
      "7\n",
      "8\n",
      "9\n"
     ]
    }
   ],
   "source": [
    "for index in range(3,10):\n",
    "    print(index)"
   ]
  },
  {
   "cell_type": "code",
   "execution_count": 18,
   "metadata": {},
   "outputs": [
    {
     "name": "stdout",
     "output_type": "stream",
     "text": [
      "K\n",
      "e\n",
      "v\n",
      "i\n",
      "n\n"
     ]
    }
   ],
   "source": [
    "for index in range(len(friend)):\n",
    "    print(friend[index])"
   ]
  },
  {
   "cell_type": "code",
   "execution_count": 20,
   "metadata": {},
   "outputs": [
    {
     "name": "stdout",
     "output_type": "stream",
     "text": [
      "first iteration\n",
      "Not first\n",
      "Not first\n",
      "Not first\n",
      "Not first\n"
     ]
    }
   ],
   "source": [
    "for index in range(5):\n",
    "    if index == 0:\n",
    "        print(\"first iteration\")\n",
    "    else:\n",
    "        print(\"Not first\")"
   ]
  },
  {
   "cell_type": "markdown",
   "metadata": {},
   "source": [
    "<h4>Exponent Function</h4>"
   ]
  },
  {
   "cell_type": "code",
   "execution_count": 22,
   "metadata": {},
   "outputs": [
    {
     "name": "stdout",
     "output_type": "stream",
     "text": [
      "8\n"
     ]
    }
   ],
   "source": [
    "print(2**3)"
   ]
  },
  {
   "cell_type": "markdown",
   "metadata": {},
   "source": [
    "Create a function that do Exponent"
   ]
  },
  {
   "cell_type": "code",
   "execution_count": 24,
   "metadata": {},
   "outputs": [
    {
     "name": "stdout",
     "output_type": "stream",
     "text": [
      "9\n"
     ]
    }
   ],
   "source": [
    "def raise_power(base_num,pow_num):\n",
    "    result = 1\n",
    "    for index in range(pow_num):\n",
    "    #for each index in range of pow_num\n",
    "    #multiply each base_num with result\n",
    "    #so the first one going to be itself\n",
    "    #1st = 1*base_num = base_num\n",
    "    #in this case 1*3 = 3\n",
    "    #2rd = \n",
    "        result = result * base_num\n",
    "    return result\n",
    "print(raise_power(3,2))"
   ]
  },
  {
   "cell_type": "markdown",
   "metadata": {},
   "source": [
    "<h4>2d list & nested loop</h4>"
   ]
  },
  {
   "cell_type": "code",
   "execution_count": 25,
   "metadata": {},
   "outputs": [],
   "source": [
    "number_grid = [[1,2], [3, 4], [5,6]]"
   ]
  },
  {
   "cell_type": "code",
   "execution_count": 33,
   "metadata": {},
   "outputs": [
    {
     "name": "stdout",
     "output_type": "stream",
     "text": [
      "[3, 4]\n",
      "4\n"
     ]
    }
   ],
   "source": [
    "print(number_grid[1])\n",
    "print(number_grid[1][1])"
   ]
  },
  {
   "cell_type": "code",
   "execution_count": 36,
   "metadata": {},
   "outputs": [
    {
     "name": "stdout",
     "output_type": "stream",
     "text": [
      "1\n",
      "2\n",
      "3\n",
      "4\n",
      "5\n",
      "6\n"
     ]
    }
   ],
   "source": [
    "for index in number_grid:\n",
    "    for element in index:\n",
    "        print(element)"
   ]
  },
  {
   "cell_type": "markdown",
   "metadata": {},
   "source": [
    "<h4>Build a basic translator</h4>"
   ]
  },
  {
   "cell_type": "markdown",
   "metadata": {},
   "source": [
    "Giraffe Language\n",
    "<br>vowels -> g\n",
    "<br>ex.\n",
    "<br>dog -> dgg\n",
    "<br>cat -> cgt"
   ]
  },
  {
   "cell_type": "code",
   "execution_count": 51,
   "metadata": {},
   "outputs": [],
   "source": [
    "vowels = [\"A\",\"E\",\"I\",\"O\",\"U\",\"a\",\"e\",\"i\",\"o\",\"u\"]\n",
    "def translate(phrase):\n",
    "    translation = \"\"\n",
    "    for letter in phrase:\n",
    "        if letter in vowels:\n",
    "            if letter.isupper():\n",
    "                translation = translation + \"G\"\n",
    "            else:    \n",
    "                translation = translation + \"g\"\n",
    "        else:\n",
    "            translation = translation + letter\n",
    "    return translation"
   ]
  },
  {
   "cell_type": "code",
   "execution_count": 53,
   "metadata": {},
   "outputs": [
    {
     "name": "stdout",
     "output_type": "stream",
     "text": [
      "cgt\n",
      "bgbby\n",
      "Gn\n"
     ]
    }
   ],
   "source": [
    "print(translate(\"cat\"))\n",
    "print(translate(\"bobby\"))\n",
    "print(translate(\"On\"))"
   ]
  },
  {
   "cell_type": "markdown",
   "metadata": {},
   "source": [
    "<h4> Comment </h4>"
   ]
  },
  {
   "cell_type": "code",
   "execution_count": 59,
   "metadata": {},
   "outputs": [
    {
     "name": "stdout",
     "output_type": "stream",
     "text": [
      "Comment are fun\n"
     ]
    }
   ],
   "source": [
    "print(\"Comment are fun\")\n",
    "#print(\"comment are fun\""
   ]
  },
  {
   "cell_type": "markdown",
   "metadata": {},
   "source": [
    "<h4> Try Exept </h4>"
   ]
  },
  {
   "cell_type": "markdown",
   "metadata": {},
   "source": [
    "instead of let the code died by an error instead use\n",
    "exept to handle if we catch this error and carry on the code"
   ]
  },
  {
   "cell_type": "code",
   "execution_count": 74,
   "metadata": {},
   "outputs": [
    {
     "name": "stdout",
     "output_type": "stream",
     "text": [
      "Enter numbe: 12\n",
      "12\n"
     ]
    }
   ],
   "source": [
    "num = int(input(\"Enter numbe: \"))\n",
    "print(num)"
   ]
  },
  {
   "cell_type": "code",
   "execution_count": 75,
   "metadata": {},
   "outputs": [
    {
     "ename": "ZeroDivisionError",
     "evalue": "division by zero",
     "output_type": "error",
     "traceback": [
      "\u001b[0;31m---------------------------------------------------------------------------\u001b[0m",
      "\u001b[0;31mZeroDivisionError\u001b[0m                         Traceback (most recent call last)",
      "\u001b[0;32m<ipython-input-75-78514c82c25b>\u001b[0m in \u001b[0;36m<module>\u001b[0;34m\u001b[0m\n\u001b[0;32m----> 1\u001b[0;31m \u001b[0mvalue\u001b[0m \u001b[0;34m=\u001b[0m \u001b[0;36m10\u001b[0m\u001b[0;34m/\u001b[0m\u001b[0;36m0\u001b[0m\u001b[0;31m#this is not possible\u001b[0m\u001b[0;34m\u001b[0m\u001b[0;34m\u001b[0m\u001b[0m\n\u001b[0m\u001b[1;32m      2\u001b[0m \u001b[0;31m#Use this to catch an error\u001b[0m\u001b[0;34m\u001b[0m\u001b[0;34m\u001b[0m\u001b[0;34m\u001b[0m\u001b[0m\n\u001b[1;32m      3\u001b[0m \u001b[0;32mtry\u001b[0m\u001b[0;34m:\u001b[0m\u001b[0;34m\u001b[0m\u001b[0;34m\u001b[0m\u001b[0m\n\u001b[1;32m      4\u001b[0m     \u001b[0mnum1\u001b[0m \u001b[0;34m=\u001b[0m \u001b[0mint\u001b[0m\u001b[0;34m(\u001b[0m\u001b[0minput\u001b[0m\u001b[0;34m(\u001b[0m\u001b[0;34m\"Enter Number: \"\u001b[0m\u001b[0;34m)\u001b[0m\u001b[0;34m)\u001b[0m\u001b[0;34m\u001b[0m\u001b[0;34m\u001b[0m\u001b[0m\n\u001b[1;32m      5\u001b[0m     \u001b[0mprint\u001b[0m\u001b[0;34m(\u001b[0m\u001b[0mnum1\u001b[0m\u001b[0;34m)\u001b[0m\u001b[0;34m\u001b[0m\u001b[0;34m\u001b[0m\u001b[0m\n",
      "\u001b[0;31mZeroDivisionError\u001b[0m: division by zero"
     ]
    }
   ],
   "source": [
    "value = 10/0#this is not possible\n",
    "#Use this to catch an error\n",
    "try:\n",
    "    num1 = int(input(\"Enter Number: \"))\n",
    "    print(num1)\n",
    "except:\n",
    "    print(\"Invalid Input\")\n",
    "#10/0 is num but except didn't catch it so we need to mod\n",
    "#more"
   ]
  },
  {
   "cell_type": "code",
   "execution_count": 72,
   "metadata": {},
   "outputs": [
    {
     "name": "stdout",
     "output_type": "stream",
     "text": [
      "division by zero\n"
     ]
    }
   ],
   "source": [
    "try:\n",
    "    ans = 10/0\n",
    "    num2 = int(input(\"Enter number: \"))\n",
    "    print(num2)\n",
    "except ZeroDivisionError as err: #Best Practices\n",
    "    #to catch specific error\n",
    "    print(err)\n",
    "except ValueError:\n",
    "    print(\"Invalid value\")"
   ]
  },
  {
   "cell_type": "markdown",
   "metadata": {},
   "source": [
    "<h4>Read/Write/Open from file</h4>"
   ]
  },
  {
   "cell_type": "code",
   "execution_count": 73,
   "metadata": {},
   "outputs": [],
   "source": [
    "#employee_file = open(\"employee.txt\", \"r\") #only read the file\n",
    "#employee_file = open(\"employee.txt\", \"w\") #write the file\n",
    "#employee_file = open(\"employee.txt\", \"a\") #add new info to the record"
   ]
  },
  {
   "cell_type": "markdown",
   "metadata": {},
   "source": [
    "After you open you need to close at somepoint"
   ]
  },
  {
   "cell_type": "code",
   "execution_count": 74,
   "metadata": {},
   "outputs": [],
   "source": [
    "#employee_file.close()"
   ]
  },
  {
   "cell_type": "markdown",
   "metadata": {},
   "source": [
    "<h4> Class & Objects </h4>"
   ]
  },
  {
   "cell_type": "markdown",
   "metadata": {},
   "source": [
    "make your program organize cause not all of things in real\n",
    "<br>world can represent by basic data types\n",
    "<br>so you can define your data type\n",
    "<br> write a program of school\n",
    "<br> first lets create student data type"
   ]
  },
  {
   "cell_type": "code",
   "execution_count": 76,
   "metadata": {},
   "outputs": [],
   "source": [
    "#Create student class that represent oveview of what student is\n",
    "class student:\n",
    "#lets define a bunch of attribute of student\n",
    "#self is refer to each object\n",
    "    def __init__(self, name, std_id, major, gpa, is_on_probation):#this is call initialize function\n",
    "        self.name = name\n",
    "        self.std_id = std_id\n",
    "        self.major = major\n",
    "        self.gpa = gpa\n",
    "        self.is_on_probation = is_on_probation\n",
    "#basically, you can map out student data types\n",
    "#define what student is inside this __init__ function"
   ]
  },
  {
   "cell_type": "code",
   "execution_count": 77,
   "metadata": {},
   "outputs": [],
   "source": [
    "#Use student class\n",
    "#student1 = student object\n",
    "student1 = student('JacK', 's001', 'economics', 4.0, True)\n",
    "student2 = student('Pam', 's002', 'engineer', 2.5, False)"
   ]
  },
  {
   "cell_type": "code",
   "execution_count": 78,
   "metadata": {},
   "outputs": [
    {
     "name": "stdout",
     "output_type": "stream",
     "text": [
      "The first student is named JacK\n",
      "His Student Id was s001\n",
      "He graduated from major of economics\n",
      "He's a brillian student, his gpa was 4.0\n",
      "He's on probation\n"
     ]
    }
   ],
   "source": [
    "print(\"The first student is named {}\".format(student1.name))\n",
    "print(\"His Student Id was {}\".format(student1.std_id))\n",
    "print(\"He graduated from major of {}\".format(student1.major))\n",
    "print(\"He's a brillian student, his gpa was {}\".format(student1.gpa))\n",
    "if student1.is_on_probation == True:\n",
    "    print(\"He's on probation\")\n",
    "else:\n",
    "    print(\"He's not on probation\")"
   ]
  },
  {
   "cell_type": "markdown",
   "metadata": {},
   "source": [
    "<h4>Building a multiple choice quize</h4>"
   ]
  },
  {
   "cell_type": "code",
   "execution_count": 89,
   "metadata": {},
   "outputs": [],
   "source": [
    "question_prompts = [\n",
    "    \"what color are apples?\\n(a) Red/Green\\n(b) Purple\\n(c) Orange\\n\\n\",\n",
    "    \"what color are bananas?\\n(a) Teal\\n(b) Magenta \\n(c)Yellow\\n\\n\",\n",
    "    \"what color are strawberries?\\n(a) Yellow \\n(b)Green\\n(c) Red\\n\\n\"]"
   ]
  },
  {
   "cell_type": "code",
   "execution_count": 90,
   "metadata": {},
   "outputs": [
    {
     "name": "stdout",
     "output_type": "stream",
     "text": [
      "what color are apples?\n",
      "(a) Red/Green\n",
      "(b) Purple\n",
      "(c) Orange\n",
      "\n",
      "\n",
      "what color are bananas?\n",
      "(a) Teal\n",
      "(b) Magenta \n",
      "(c)Yellow\n",
      "\n",
      "\n",
      "what color are strawberries?\n",
      "(a) Yellow \n",
      "(b)Green\n",
      "(c) Red\n",
      "\n",
      "\n"
     ]
    }
   ],
   "source": [
    "print(question_prompts[0])\n",
    "print(question_prompts[1])\n",
    "print(question_prompts[2])"
   ]
  },
  {
   "cell_type": "code",
   "execution_count": 102,
   "metadata": {},
   "outputs": [],
   "source": [
    "class question:\n",
    "    def __init__(self, prompts, answers):\n",
    "        self.prompts = prompts\n",
    "        self.answers= answers"
   ]
  },
  {
   "cell_type": "code",
   "execution_count": 111,
   "metadata": {},
   "outputs": [],
   "source": [
    "questions = [question(question_prompts[0], \"a\"),\n",
    "             question(question_prompts[1], \"c\"),\n",
    "              question(question_prompts[2], \"b\")]"
   ]
  },
  {
   "cell_type": "code",
   "execution_count": 126,
   "metadata": {},
   "outputs": [],
   "source": [
    "def run_test(questions):\n",
    "    score = 0\n",
    "    for question in questions:\n",
    "        answer = input(question.prompts)\n",
    "        if answer == question.answers:\n",
    "            score = score + 1\n",
    "    print(\"Hey you got \" + str(score) + \"/\" + str(len(questions)))"
   ]
  },
  {
   "cell_type": "code",
   "execution_count": 127,
   "metadata": {},
   "outputs": [
    {
     "name": "stdout",
     "output_type": "stream",
     "text": [
      "what color are apples?\n",
      "(a) Red/Green\n",
      "(b) Purple\n",
      "(c) Orange\n",
      "\n",
      "a\n",
      "what color are bananas?\n",
      "(a) Teal\n",
      "(b) Magenta \n",
      "(c)Yellow\n",
      "\n",
      "b\n",
      "what color are strawberries?\n",
      "(a) Yellow \n",
      "(b)Green\n",
      "(c) Red\n",
      "\n",
      "c\n",
      "Hey you got 1/3\n"
     ]
    }
   ],
   "source": [
    "run_test(questions)"
   ]
  },
  {
   "cell_type": "markdown",
   "metadata": {},
   "source": [
    "<h4> Class Function </h4>"
   ]
  },
  {
   "cell_type": "markdown",
   "metadata": {},
   "source": [
    "mod class and give specifc info about class"
   ]
  },
  {
   "cell_type": "code",
   "execution_count": 133,
   "metadata": {},
   "outputs": [],
   "source": [
    "class student:\n",
    "#lets define a bunch of attribute of student\n",
    "#self is refer to each object\n",
    "    def __init__(self, name, std_id, major, gpa, is_on_probation):#this is call initialize function\n",
    "        self.name = name\n",
    "        self.std_id = std_id\n",
    "        self.major = major\n",
    "        self.gpa = gpa\n",
    "        self.is_on_probation = is_on_probation\n",
    "#create function inside class\n",
    "    def on_honor_roll(self):\n",
    "        if self.gpa >= 3.5:\n",
    "            return True\n",
    "        else:\n",
    "            return False"
   ]
  },
  {
   "cell_type": "code",
   "execution_count": 131,
   "metadata": {},
   "outputs": [],
   "source": [
    "student1 = student('JacK', 's001', 'economics', 4.0, True)\n",
    "student2 = student('Pam', 's002', 'engineer', 2.5, False)"
   ]
  },
  {
   "cell_type": "code",
   "execution_count": 137,
   "metadata": {},
   "outputs": [
    {
     "name": "stdout",
     "output_type": "stream",
     "text": [
      "True\n"
     ]
    }
   ],
   "source": [
    "print(student1.on_honor_roll())"
   ]
  },
  {
   "cell_type": "markdown",
   "metadata": {},
   "source": [
    "<h4>Inheritage</h4>"
   ]
  },
  {
   "cell_type": "code",
   "execution_count": 152,
   "metadata": {},
   "outputs": [],
   "source": [
    "class chef:\n",
    "    def make_chick(self):\n",
    "        print(\"Chef make chick\")\n",
    "    def make_salad(self):\n",
    "        print(\"Chef make salad\")"
   ]
  },
  {
   "cell_type": "code",
   "execution_count": 153,
   "metadata": {},
   "outputs": [
    {
     "name": "stdout",
     "output_type": "stream",
     "text": [
      "Chef make salad\n"
     ]
    }
   ],
   "source": [
    "my_chef = chef()\n",
    "my_chef.make_salad()"
   ]
  },
  {
   "cell_type": "code",
   "execution_count": 141,
   "metadata": {},
   "outputs": [],
   "source": [
    "class chinese_chef:\n",
    "    def make_chick(self):\n",
    "        print(\"Chef make chick\")\n",
    "    def make_salad(self):\n",
    "        print(\"Chef make salad\")\n",
    "    def make_fried_rice(self):\n",
    "        print(\"Chef make fried rice\")"
   ]
  },
  {
   "cell_type": "code",
   "execution_count": 143,
   "metadata": {},
   "outputs": [
    {
     "name": "stdout",
     "output_type": "stream",
     "text": [
      "Chef make chick\n"
     ]
    }
   ],
   "source": [
    "chinese_chef = chinese_chef()\n",
    "chinese_chef.make_chick()"
   ]
  },
  {
   "cell_type": "code",
   "execution_count": 154,
   "metadata": {},
   "outputs": [],
   "source": [
    "class chinese_chef_inher(chef):\n",
    "    def make_fired_rice(self):\n",
    "        print(\"chef make fried rice\")"
   ]
  },
  {
   "cell_type": "code",
   "execution_count": 156,
   "metadata": {},
   "outputs": [
    {
     "name": "stdout",
     "output_type": "stream",
     "text": [
      "Chef make chick\n"
     ]
    }
   ],
   "source": [
    "chinese_chef_inher = chinese_chef_inher()\n",
    "chinese_chef_inher.make_chick()"
   ]
  },
  {
   "cell_type": "markdown",
   "metadata": {},
   "source": [
    "<h4>---------------- DONE ----------------------------</h4>"
   ]
  }
 ],
 "metadata": {
  "kernelspec": {
   "display_name": "Python 3",
   "language": "python",
   "name": "python3"
  },
  "language_info": {
   "codemirror_mode": {
    "name": "ipython",
    "version": 3
   },
   "file_extension": ".py",
   "mimetype": "text/x-python",
   "name": "python",
   "nbconvert_exporter": "python",
   "pygments_lexer": "ipython3",
   "version": "3.8.5"
  }
 },
 "nbformat": 4,
 "nbformat_minor": 4
}
